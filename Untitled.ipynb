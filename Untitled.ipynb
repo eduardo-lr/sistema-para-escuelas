{
 "cells": [
  {
   "cell_type": "markdown",
   "metadata": {},
   "source": [
    "# Proyecto para escuelas"
   ]
  },
  {
   "cell_type": "markdown",
   "metadata": {},
   "source": [
    "Requerimiento del proyecto:\n",
    "\n",
    "Para este proyecto, realizarás un sistema para una escuela. Este sistema permite registrar nuevos alumnos, profesores y cursos.\n",
    "\n",
    "Un alumno es asignado a un curso y un curso puede tener asociado más de un profesor. Los profesores tienen un horario que indica cuando están en cada curso. \n",
    "\n",
    "El horario asociará un curso y un profesor para un día de la semana (Lunes, Martes, Miércoles, Jueves, Viernes, Sábado, Domingo), una hora desde y una hora hasta.\n",
    "\n",
    "El sistema permitirá exportar los alumnos que pertenecen a un curso, el horario de cada profesor y el horario del curso."
   ]
  },
  {
   "cell_type": "markdown",
   "metadata": {},
   "source": [
    "## Implementación del modelo"
   ]
  },
  {
   "cell_type": "code",
   "execution_count": 1,
   "metadata": {},
   "outputs": [],
   "source": [
    "from sqlalchemy import create_engine\n",
    "from sqlalchemy.ext.declarative import declarative_base\n",
    "from sqlalchemy import Table, Column, Integer, String, Sequence, ForeignKey\n",
    "from sqlalchemy.orm import relationship, sessionmaker\n",
    "import sys"
   ]
  },
  {
   "cell_type": "code",
   "execution_count": 2,
   "metadata": {},
   "outputs": [],
   "source": [
    "class Persona:\n",
    "    \"\"\" Clase para abstraer el comportamiento de alumnos y profesores.\n",
    "    \"\"\"\n",
    "\n",
    "    def __init__(self, nombre, app, apm=None):\n",
    "        \"\"\" Constructor de la clase Persona. La persona puede o no\n",
    "            tener apellido materno. \n",
    "        \n",
    "        Args:\n",
    "          nombre: El nombre de la persona\n",
    "          app: El apellido paterno de la persona\n",
    "          apm: El apellido materno de la persona. Por default es None.\n",
    "        \"\"\"\n",
    "        self.nombre = nombre\n",
    "        self.app = app\n",
    "        self.apm = apm\n",
    "\n",
    "    def __str__(self):\n",
    "        \"\"\" Convierte el nombre de una persona en una cadena. \n",
    "\n",
    "        Returns:\n",
    "          s: Una cadena con el nombre de la persona.\n",
    "        \"\"\"\n",
    "        s = self.nombre + \" \" + self.app\n",
    "        if self.apm:\n",
    "            s += \" \" + self.apm\n",
    "        return s"
   ]
  },
  {
   "cell_type": "markdown",
   "metadata": {},
   "source": [
    "Creamos una clase para heredar e implementar el mapeo objeto relacion en SQLAlchemy"
   ]
  },
  {
   "cell_type": "code",
   "execution_count": 3,
   "metadata": {},
   "outputs": [],
   "source": [
    "Base = declarative_base()"
   ]
  },
  {
   "cell_type": "code",
   "execution_count": 4,
   "metadata": {},
   "outputs": [],
   "source": [
    "class Alumno(Base, Persona):\n",
    "    \"\"\" Clase para modelar alumnos. La clase extiende a Persona y Base.\n",
    "    \"\"\"    \n",
    "\n",
    "    \" El nombre de la tabla en el ORM.\"\n",
    "    __tablename__ = 'alumno'\n",
    "    \" El id del alumno. La columna es llave primaria y autoincrementable.\"\n",
    "    id_alumno = Column(Integer, Sequence('id_alumno_sequence'), primary_key=True)\n",
    "    \" El nombre del alumno. La columna no admite valores nulos\"\n",
    "    nombre = Column(String, nullable=False)\n",
    "    \" El apellido paterno del alumno. La columna no admite valores nulos.\"\n",
    "    app = Column(String, nullable=False)\n",
    "    \" El apellido materno del alumno.\"\n",
    "    apm = Column(String)\n",
    "    \" Llave foranea para referenciar el curso al cual se inscribe el alumno.\"\n",
    "    id_curso = Column(Integer, ForeignKey('curso.id_curso'))\n",
    "    \" Relación para vincular las clases Curso y Alumno.\"\n",
    "    curso = relationship('Curso', back_populates='alumnos')\n",
    "\n",
    "    def __init__(self, nombre, app, apm=None):\n",
    "        \"\"\" Constructor de la clase Alumno. Un alumno puede o no\n",
    "            tener apellido materno.\n",
    "\n",
    "        Args:\n",
    "          nombre: El nombre de la persona\n",
    "          app: El apellido paterno de la persona\n",
    "          apm: El apellido materno de la persona. Por default es None.\n",
    "        \"\"\"\n",
    "        Persona.__init__(self, nombre, app, apm)\n",
    "\n",
    "    def __str__(self):\n",
    "        \"\"\" Convierte el nombre de un alumno en una cadena. \n",
    "\n",
    "        Returns:\n",
    "          s: Una cadena con el nombre del alumno.\n",
    "        \"\"\"\n",
    "        return Persona.__str__(self)\n"
   ]
  },
  {
   "cell_type": "code",
   "execution_count": 5,
   "metadata": {},
   "outputs": [],
   "source": [
    "class Profesor(Base, Persona):\n",
    "    \"\"\" Clase para modelar profesores. La clase extiende a Persona y Base.\n",
    "    \"\"\"    \n",
    "\n",
    "    \" El nombre de la tabla en el ORM.\"    \n",
    "    __tablename__ = 'profesor'\n",
    "    \" El id del profesor. La columna es llave primaria y autoincrementable.\"    \n",
    "    id_profesor = Column(Integer, Sequence('id_profesor_sequence'), primary_key=True)\n",
    "    \" El nombre del profesor. La columna no admite valores nulos\"\n",
    "    nombre = Column(String, nullable=False)\n",
    "    \" El apellido paterno del profesor. La columna no admite valores nulos.\"\n",
    "    app = Column(String, nullable=False)\n",
    "    \" El apellido materno del profesor.\"\n",
    "    apm = Column(String)\n",
    "    \" Relación para vincular las clases Curso y Profesor, por medio de Horario.\"\n",
    "    cursos = relationship('Horario', back_populates='profesor')\n",
    "\n",
    "    def __init__(self, nombre, app, apm=None):\n",
    "        \"\"\" Constructor de la clase Alumno. Un alumno puede o no\n",
    "            tener apellido materno.\n",
    "\n",
    "        Args:\n",
    "          nombre: El nombre de la persona\n",
    "          app: El apellido paterno de la persona\n",
    "          apm: El apellido materno de la persona. Por default es None.\n",
    "        \"\"\"\n",
    "        Persona.__init__(self, nombre, app, apm)\n",
    "\n",
    "    def __str__(self):\n",
    "        \"\"\" Convierte el nombre de un alumno en una cadena. \n",
    "\n",
    "        Returns:\n",
    "          s: Una cadena con el nombre del alumno.\n",
    "        \"\"\"\n",
    "        return Persona.__str__(self)\n"
   ]
  },
  {
   "cell_type": "code",
   "execution_count": 6,
   "metadata": {},
   "outputs": [],
   "source": [
    "class Curso(Base):\n",
    "    \"\"\" Clase para modelar cursos. La clase extiende a Base.\n",
    "    \"\"\"    \n",
    "\n",
    "    \" El nombre de la tabla en el ORM.\"\n",
    "    __tablename__ = 'curso'\n",
    "    \" El id del profesor. La columna es llave primaria y autoincrementable.\"   \n",
    "    id_curso = Column(Integer, Sequence('id_curso_sequence'), primary_key=True)\n",
    "    \" El nombre del curso. La columna no admite valores nulos\"\n",
    "    nombre = Column(String, nullable=False)\n",
    "    \" Relación para vincular las clases Profesor y Curso, por medio de Horario\"\n",
    "    profesores = relationship('Horario', back_populates='curso')\n",
    "    \" Relación para vincular las clases Alumno y Curso.\"\n",
    "    alumnos = relationship('Alumno', back_populates='curso')\n",
    "\n",
    "    def __init__(self, nombre):\n",
    "        \"\"\" Constructor de la clase curso.\n",
    "\n",
    "        Args:\n",
    "          nombre: el nombre del curso.\n",
    "        \"\"\"\n",
    "        self.nombre = nombre\n",
    "\n",
    "    def __str__(self):\n",
    "        \"\"\" Convierte el curso en una cadena. \n",
    "\n",
    "        Returns:\n",
    "          Una cadena con el nombre del alumno.\n",
    "        \"\"\"\n",
    "        return self.nombre"
   ]
  },
  {
   "cell_type": "code",
   "execution_count": 7,
   "metadata": {},
   "outputs": [],
   "source": [
    "class Horario(Base):\n",
    "    \"\"\" Clase para modelar horarios. La clase extiende a Base.\n",
    "    \"\"\"    \n",
    "    \" El nombre de la tabla en el ORM.\"\n",
    "    __tablename__ = 'horario'\n",
    "    \" La hora final del horario. La columna no admite valores nulos.\"\n",
    "    hora_final = Column(String, nullable=False)\n",
    "    \" La hora inicial del horario. La columna no admite valores nulos.\"\n",
    "    hora_inicial = Column(String, nullable=False)\n",
    "    \" Llave foranea para referenciar el curso al cual está vinculado el horario.\"\n",
    "    id_curso = Column(Integer, ForeignKey('curso.id_curso'), primary_key=True)\n",
    "    \" Relacion para vincular las tablas curso y Profesor.\"\n",
    "    curso = relationship(\"Curso\", back_populates=\"profesores\")\n",
    "    \" Llave foranea para referenciar el profesor al cual está vinculado el horario.\"\n",
    "    id_profesor = Column(Integer, ForeignKey('profesor.id_profesor'), primary_key=True)\n",
    "    \" Relacion para vincular las tablas Profesor y Curso.\"\n",
    "    profesor = relationship(\"Profesor\", back_populates=\"cursos\")\n",
    "    \" Llave foranea para refenciar el dia correspondiente al horario.\"  \n",
    "    id_dia = Column(Integer, ForeignKey('cdia.id_dia'))\n",
    "    \" Relacion para vincular las tablas Cdia y Horario.\" \n",
    "    dia = relationship('Cdia', back_populates='horarios')\n",
    "    \n",
    "    class Hora:\n",
    "        \"\"\" Clase interna para modelar objetos hora de la forma '00:00'\n",
    "        \"\"\"\n",
    "\n",
    "        class FormatoInvalido(Exception): \n",
    "            \"\"\" Clase para implementar excepciones en el formato con el que el usuario ingresa una hora.\n",
    "            \"\"\"\n",
    "            pass\n",
    "\n",
    "        def __init__(self, string):\n",
    "            \"\"\" Constructor de la clase Hora.\n",
    "\n",
    "            Args:\n",
    "              hora: La hora entre 0 y 23 del objeto Hora.\n",
    "              minutos: Los minutos entre 0 y 59 del objeto Hora.\n",
    "            \"\"\"\n",
    "            try:\n",
    "                self.hora, self.minutos = self._valida_hora(string)\n",
    "            except FormatoInvalido as e:\n",
    "                sys.exit(e)\n",
    "\n",
    "        def __le__(self, other):\n",
    "            \"\"\" Implementacion del operador de comparacion '<=' para objetos Hora.\n",
    "            Args:\n",
    "               other: El objeto hora con el cual comparar.\n",
    "            \"\"\"\n",
    "            eq = self.hora == other.hora and self.minutos == other.minutos\n",
    "            le = self.hora < other.hora or (self.hora == other.hora and self.minutos < other.minutos)\n",
    "            return eq or le\n",
    "\n",
    "        def __str__(self):\n",
    "            \"\"\" Convierte el objeto Hora en una cadena. \n",
    "\n",
    "            Returns:\n",
    "              Una representacion en cadena del objeto Hora.\n",
    "            \"\"\"\n",
    "            hora = str(self.hora)\n",
    "            minutos = str(self.minutos)\n",
    "            if len(hora) == 1:\n",
    "                hora = '0' + hora\n",
    "            if len(minutos) == 1:\n",
    "                minutos = minutos + '0'\n",
    "            return hora + \":\" + minutos \n",
    "\n",
    "        def _valida_hora(self, string):\n",
    "            \"\"\" Método auxiliar para validar que la cadena a convertir en un objeto Hora\n",
    "                tenga un formato válido.\n",
    "\n",
    "            Args:\n",
    "              string: la cadena candidata a convertirse en un objeto Hora. \n",
    "\n",
    "            Returns:\n",
    "              hora: Un entero entre 0 y 23 con la hora asociada al objeto Hora.\n",
    "              minutos: Un entero entre 0 y 59 con los minutos asociados al objeto Hora.\n",
    "\n",
    "            Raises:\n",
    "              FormatoInvalido: Si la cadena no es de la forma 00:00 o no es una hora válida.\n",
    "            \"\"\"\n",
    "            import re\n",
    "            if not re.fullmatch('\\d{1,2}:\\d{2}', string):\n",
    "                raise FormatoInvalido(\"El formato de hora debe ser de 24 horas y de la forma 00:00\")\n",
    "            split_hora = string.split(\":\")\n",
    "            hora = int(split_hora[0])\n",
    "            minutos = int(split_hora[1])\n",
    "            if hora >= 24 or minutos > 59:\n",
    "                raise FormatoInvalido(\"Hora invalida\")\n",
    "            return hora, minutos\n",
    "\n",
    "    class HorarioInvalido(Exception):\n",
    "        \"\"\" Clase para implementar excepciones cuando la hora de inicio es mayor o igual que la final.\n",
    "        \"\"\"\n",
    "        pass\n",
    "\n",
    "    def __init__(self, hora_inicial, hora_final):\n",
    "        \"\"\" Constructor de la clase Horario. la hora inicial debe ser menor a la hora final.\n",
    "\n",
    "        Args:\n",
    "          hora_inicial: una cadena de texto con la hora inicial.\n",
    "          hora_final: una cadena de texto con la hora final.\n",
    "        \"\"\"\n",
    "        inicial = self.Hora(hora_inicial)\n",
    "        final = self.Hora(hora_final)\t\n",
    "        try:\n",
    "            self._verifica_horario(inicial, final)\n",
    "        except HorarioInvalido as e:\n",
    "            sys.exit(e)\n",
    "\n",
    "        self.hora_inicial = str(inicial)\n",
    "        self.hora_final = str(final)\n",
    "\n",
    "    def __str__(self):\n",
    "        \"\"\" Regresa una representacion en cadena del Horario.\n",
    "\n",
    "        Returns: Una representación en cadena del objeto Horario.\n",
    "        \"\"\"\n",
    "        return \"{}, de las {} horas a las {} horas\".format(self.dia, self.hora_inicial, self.hora_final) \n",
    "\n",
    "    def _verifica_horario(self, inicial, final):\n",
    "        \"\"\" Método auxiliar para validar que la hora inicial sea menor a la hora final.\n",
    "\n",
    "        Args:\n",
    "          inicial: un objeto Hora con la hora inicial.\n",
    "          final: un objeto Hora con la hora final.\n",
    "\n",
    "        Raises:\n",
    "          HorarioInvalido: si la hora inicial no es menor a la hora final.\n",
    "        \"\"\"\n",
    "        if final <= inicial:\n",
    "            raise HorarioInvalido(\"La hora final no puede ser menor o igual que la inicial\")"
   ]
  },
  {
   "cell_type": "code",
   "execution_count": 8,
   "metadata": {},
   "outputs": [],
   "source": [
    "class Cdia(Base):\n",
    "    \"\"\" Catálogo para almacenar los dias de la semana\n",
    "    \"\"\"\n",
    "\n",
    "    \" El nombre de la tabla en el ORM.\"\n",
    "    __tablename__ = 'cdia'\n",
    "    \" El id del dìa. La columna es llave primaria y autoincrementable.\"\n",
    "    id_dia = Column(Integer, Sequence('id_dia_sequence'), primary_key=True)\n",
    "    \" El dia de la semana. La columna no admite valores repetidos ni nulos.\"\n",
    "    dia = Column(String, nullable=False, unique=True)\n",
    "    \" Relación para vincular las tablas Horario y Cdia.\"\n",
    "    horarios = relationship('Horario', back_populates='dia')\n",
    "\n",
    "    def __init__(self, dia):\n",
    "        \"\"\" Constructor de la clase Cdia.\n",
    "\n",
    "        Args:\n",
    "          dia: cadena con el dia de la semana.\n",
    "        \"\"\"\n",
    "        self.dia = dia\n",
    "\n",
    "    def __str__(self):\n",
    "        \"\"\" Regresa una representacion en cadena del día.\n",
    "\n",
    "        Returns: Una representación en cadena del dia.\n",
    "        \"\"\"\n",
    "        return self.dia"
   ]
  },
  {
   "cell_type": "markdown",
   "metadata": {},
   "source": [
    "## Construcción y población de la base de datos"
   ]
  },
  {
   "cell_type": "markdown",
   "metadata": {},
   "source": [
    "Creamos el motor de la base, en este caso en SQLite."
   ]
  },
  {
   "cell_type": "code",
   "execution_count": 9,
   "metadata": {},
   "outputs": [],
   "source": [
    "engine = create_engine('sqlite:///:memory:')"
   ]
  },
  {
   "cell_type": "markdown",
   "metadata": {},
   "source": [
    "Vinculamos los metadatos de la base con el motor."
   ]
  },
  {
   "cell_type": "code",
   "execution_count": 10,
   "metadata": {},
   "outputs": [],
   "source": [
    "Base.metadata.create_all(engine)"
   ]
  },
  {
   "cell_type": "markdown",
   "metadata": {},
   "source": [
    "Creamos un objeto Session."
   ]
  },
  {
   "cell_type": "code",
   "execution_count": 11,
   "metadata": {},
   "outputs": [],
   "source": [
    "Session = sessionmaker(bind=engine)"
   ]
  },
  {
   "cell_type": "markdown",
   "metadata": {},
   "source": [
    "Creamos la sesión."
   ]
  },
  {
   "cell_type": "code",
   "execution_count": 12,
   "metadata": {},
   "outputs": [],
   "source": [
    "session = Session()"
   ]
  },
  {
   "cell_type": "markdown",
   "metadata": {},
   "source": [
    "Ahora poblamos las bases de datos."
   ]
  },
  {
   "cell_type": "markdown",
   "metadata": {},
   "source": [
    "Creamos primero algunos alumnos y los agregamos."
   ]
  },
  {
   "cell_type": "code",
   "execution_count": 13,
   "metadata": {},
   "outputs": [],
   "source": [
    "Otto = Alumno(\"Otto\", \"Webber\")\n",
    "Diego = Alumno(\"Diego Armando\", \"Glagovsky\")\n",
    "Eduardo = Alumno(\"Eduardo\", \"Rodríguez\", \"Pérez\")\n",
    "Marco = Alumno(\"Marco Antonio\", \"Juarez\", \"Borja\")\n",
    "session.add_all([Otto, Diego, Eduardo, Marco])"
   ]
  },
  {
   "cell_type": "markdown",
   "metadata": {},
   "source": [
    "Agregamos algunos cursos."
   ]
  },
  {
   "cell_type": "code",
   "execution_count": 14,
   "metadata": {},
   "outputs": [],
   "source": [
    "algebra = Curso(\"Álgebra\")\n",
    "geometria = Curso(\"Geometría\")\n",
    "economia = Curso(\"Economía\")\n",
    "session.add_all([algebra, geometria, economia])"
   ]
  },
  {
   "cell_type": "markdown",
   "metadata": {},
   "source": [
    "Asignamos ahora algunos alumnos a los cursos"
   ]
  },
  {
   "cell_type": "code",
   "execution_count": 15,
   "metadata": {},
   "outputs": [],
   "source": [
    "Otto.curso = algebra\n",
    "Diego.curso = algebra\n",
    "Eduardo.curso = geometria\n",
    "Marco.curso = economia"
   ]
  },
  {
   "cell_type": "markdown",
   "metadata": {},
   "source": [
    "Agregamos los dìas de la semana."
   ]
  },
  {
   "cell_type": "code",
   "execution_count": 16,
   "metadata": {},
   "outputs": [],
   "source": [
    "lunes = Cdia(\"Lunes\")\n",
    "martes = Cdia(\"Martes\")\n",
    "miercoles = Cdia(\"Miércoles\")\n",
    "jueves = Cdia(\"Jueves\")\n",
    "viernes = Cdia(\"Viernes\")\n",
    "sabado = Cdia(\"Sábado\")\n",
    "domingo = Cdia(\"Domingo\")\n",
    "session.add_all([lunes, martes, miercoles, jueves, viernes, sabado, domingo])"
   ]
  },
  {
   "cell_type": "markdown",
   "metadata": {},
   "source": [
    "Agregamos algunos profesores."
   ]
  },
  {
   "cell_type": "code",
   "execution_count": 17,
   "metadata": {},
   "outputs": [],
   "source": [
    "Albert = Profesor(\"Albert\", \"Einstein\")\n",
    "Joseph = Profesor(\"Joseph\", \"Mupbala\", \"Khan\")\n",
    "session.add_all([Albert, Joseph])"
   ]
  },
  {
   "cell_type": "markdown",
   "metadata": {},
   "source": [
    "Asignamos cursos a los profesores."
   ]
  },
  {
   "cell_type": "code",
   "execution_count": 18,
   "metadata": {},
   "outputs": [],
   "source": [
    "h1 = Horario(\"12:00\", \"13:00\")\n",
    "h1.curso, h1.dia = algebra, martes\n",
    "Albert.cursos.append(h1)\n",
    "\n",
    "h2 = Horario(\"5:00\", \"6:00\")\n",
    "h2.curso, h2.dia = algebra, lunes\n",
    "Joseph.cursos.append(h2)\n",
    "\n",
    "h3 = Horario(\"11:30\", \"12:30\")\n",
    "h3.curso, h3.dia = geometria, miercoles\n",
    "Joseph.cursos.append(h3)\n",
    "\n",
    "h4 = Horario(\"9:15\", \"10:15\")\n",
    "h4.curso, h4.dia = economia, sabado\n",
    "Joseph.cursos.append(h4)\n"
   ]
  },
  {
   "cell_type": "markdown",
   "metadata": {},
   "source": [
    "## Exportación de datos"
   ]
  },
  {
   "cell_type": "markdown",
   "metadata": {},
   "source": [
    "Los alumnos que pertenecen a los cursos."
   ]
  },
  {
   "cell_type": "code",
   "execution_count": 19,
   "metadata": {},
   "outputs": [
    {
     "name": "stdout",
     "output_type": "stream",
     "text": [
      "{\n",
      "\t\"Álgebra\": [\"Otto Webber\", \"Diego Armando Glagovsky\"],\n",
      "\t\"Geometría\": [\"Eduardo Rodríguez Pérez\"],\n",
      "\t\"Economía\": [\"Marco Antonio Juarez Borja\"]\n",
      "}\n",
      "\n"
     ]
    }
   ],
   "source": [
    "def exportaInscritos():\n",
    "    \"\"\" Esta función devuelve en formato JSON los alumnos inscritos a cada curso.\n",
    "\n",
    "    Returns:\n",
    "      s: un JSON con los alumnos inscritos a cada curso.\n",
    "    \"\"\"      \n",
    "    s = \"{\\n\"\n",
    "    cursos = session.query(Curso).all()\n",
    "    for n, curso in enumerate(cursos):\n",
    "        s += \"\\t\\\"{}\\\": [\".format(str(curso))\n",
    "        alumnos = session.query(Alumno).where(Alumno.curso==curso).all()\n",
    "        for m, alumno in enumerate(alumnos):\n",
    "            s += \"\\\"{}\\\"\".format(str(alumno))\n",
    "            if m != len(alumnos) - 1:\n",
    "                s += \", \"\n",
    "            else:\n",
    "                s += \"]\"\n",
    "                if n != len(cursos) - 1:\n",
    "                    s += \",\"\n",
    "                s+= \"\\n\"\n",
    "    s += \"}\\n\"\n",
    "    return s\n",
    "\n",
    "print(exportaInscritos())"
   ]
  },
  {
   "cell_type": "markdown",
   "metadata": {},
   "source": [
    "El horario de cada profesor."
   ]
  },
  {
   "cell_type": "code",
   "execution_count": 20,
   "metadata": {},
   "outputs": [
    {
     "name": "stdout",
     "output_type": "stream",
     "text": [
      "{\n",
      "\t\"Albert Einstein\": [\"Martes, de las 12:00 horas a las 13:00 horas\"],\n",
      "\t\"Joseph Mupbala Khan\": [\"Lunes, de las 05:00 horas a las 06:00 horas\", \"Miércoles, de las 11:30 horas a las 12:30 horas\", \"Sábado, de las 09:15 horas a las 10:15 horas\"]\n",
      "}\n",
      "\n"
     ]
    }
   ],
   "source": [
    "def exportaHorarioProfesores():\n",
    "    \"\"\" Esta función devuelve en formato JSON el horario de cada profesor.\n",
    "\n",
    "    Returns:\n",
    "      s: un JSON con el horario de cada profesor.\n",
    "    \"\"\"      \n",
    "    s = \"{\\n\"\n",
    "    profesores = session.query(Profesor).all()\n",
    "    for n, profesor in enumerate(profesores):\n",
    "        s += \"\\t\\\"{}\\\": [\".format(str(profesor))\n",
    "        for m, horario in enumerate(profesor.cursos):\n",
    "            s += \"\\\"{}\\\"\".format(str(horario))\n",
    "            if m != len(profesor.cursos) - 1:\n",
    "                s += \", \"\n",
    "            else:\n",
    "                s += \"]\"\n",
    "                if n != len(profesores) - 1:\n",
    "                    s += \",\"\n",
    "                s+= \"\\n\"\n",
    "    s += \"}\\n\"\n",
    "    return s\n",
    "\n",
    "print(exportaHorarioProfesores())"
   ]
  },
  {
   "cell_type": "markdown",
   "metadata": {},
   "source": [
    "El horario de cad curso."
   ]
  },
  {
   "cell_type": "code",
   "execution_count": 21,
   "metadata": {},
   "outputs": [
    {
     "name": "stdout",
     "output_type": "stream",
     "text": [
      "{\n",
      "\t\"Álgebra\": [\"Martes, de las 12:00 horas a las 13:00 horas\", \"Lunes, de las 05:00 horas a las 06:00 horas\"],\n",
      "\t\"Geometría\": [\"Miércoles, de las 11:30 horas a las 12:30 horas\"],\n",
      "\t\"Economía\": [\"Sábado, de las 09:15 horas a las 10:15 horas\"]\n",
      "}\n",
      "\n"
     ]
    }
   ],
   "source": [
    "def exportaHorarioCurso():\n",
    "    \"\"\" Esta función devuelve en formato JSON el horario de cada curso.\n",
    "\n",
    "    Returns:\n",
    "      s: un JSON con el horario de cada curso.\n",
    "    \"\"\"      \n",
    "    s = \"{\\n\"\n",
    "    cursos = session.query(Curso).all()\n",
    "    for n, curso in enumerate(cursos):\n",
    "        s += \"\\t\\\"{}\\\": [\".format(str(curso))\n",
    "        horarios = session.query(Horario).where(Horario.curso == curso).all()\n",
    "        for m, horario in enumerate(horarios):\n",
    "            s += \"\\\"{}\\\"\".format(str(horario))\n",
    "            if m != len(horarios) - 1:\n",
    "                s += \", \"\n",
    "            else:\n",
    "                s += \"]\"\n",
    "                if n != len(cursos) - 1:\n",
    "                    s += \",\"\n",
    "                s+= \"\\n\"\n",
    "    s += \"}\\n\"\n",
    "    return s\n",
    "\n",
    "print(exportaHorarioCurso())"
   ]
  },
  {
   "cell_type": "markdown",
   "metadata": {},
   "source": [
    "Cerramos la sesion."
   ]
  },
  {
   "cell_type": "code",
   "execution_count": 22,
   "metadata": {},
   "outputs": [],
   "source": [
    "session.close()"
   ]
  }
 ],
 "metadata": {
  "kernelspec": {
   "display_name": "Python 3",
   "language": "python",
   "name": "python3"
  },
  "language_info": {
   "codemirror_mode": {
    "name": "ipython",
    "version": 3
   },
   "file_extension": ".py",
   "mimetype": "text/x-python",
   "name": "python",
   "nbconvert_exporter": "python",
   "pygments_lexer": "ipython3",
   "version": "3.6.9"
  }
 },
 "nbformat": 4,
 "nbformat_minor": 2
}
